{
 "cells": [
  {
   "cell_type": "code",
   "execution_count": 2,
   "id": "619dc5c9",
   "metadata": {},
   "outputs": [],
   "source": [
    "import pandas as pd\n",
    "import numpy as py\n",
    "import matplotlib.pyplot as plt\n",
    "import seaborn as sns\n",
    "from sklearn.metrics import mean_squared_error, mean_absolute_error"
   ]
  },
  {
   "cell_type": "code",
   "execution_count": 38,
   "id": "283e20de",
   "metadata": {},
   "outputs": [],
   "source": [
    "actual_values = pd.read_csv('fbfiltered.csv',index_col=0)\n",
    "cnn_values = pd.read_csv('CNN_FB_PRED.csv',index_col=0)\n",
    "mlp_values = pd.read_csv('MLP_FB_PRED.csv',index_col=0)\n",
    "rfr_values = pd.read_csv('RFR_FB_PRED.csv',index_col=0)\n",
    "knn_values = pd.read_csv('KNN_FB_PRED.csv',index_col=0)\n",
    "svr_values = pd.read_csv('SVR_FB_PRED.csv',index_col=0)\n",
    "linear_values = pd.read_csv('Linear_FB_PRED.csv',index_col=0)"
   ]
  },
  {
   "cell_type": "code",
   "execution_count": 39,
   "id": "75cd7d4c",
   "metadata": {},
   "outputs": [
    {
     "data": {
      "text/plain": [
       "([0.9898411790535045, 0.9953574160544543],\n",
       " [6.570430399494874, 8.514415124122975],\n",
       " [2949.452971106192, 1991.1420536462506])"
      ]
     },
     "execution_count": 39,
     "metadata": {},
     "output_type": "execute_result"
    }
   ],
   "source": [
    "def eval(data):\n",
    "    merged = pd.merge(data, actual_values, on='gene symbol', how='inner')\n",
    "    correlations = []\n",
    "#     correlations.append(merged['predicted_6'].corr(merged['14.5']))\n",
    "    correlations.append(merged['predicted_6'].corr(merged['15.5']))\n",
    "    correlations.append(merged['predicted_7'].corr(merged['16.5']))\n",
    "    \n",
    "    maes = []\n",
    "#     maes.append(mean_absolute_error(merged['predicted_6'],merged['14.5']))\n",
    "    maes.append(mean_absolute_error(merged['predicted_6'],merged['15.5']))\n",
    "    maes.append(mean_absolute_error(merged['predicted_7'],merged['16.5']))\n",
    "    \n",
    "    mses = []\n",
    "#     mses.append(mean_squared_error(merged['predicted_6'],merged['14.5']))\n",
    "    mses.append(mean_squared_error(merged['predicted_6'],merged['15.5']))\n",
    "    mses.append(mean_squared_error(merged['predicted_7'],merged['16.5']))\n",
    "    return correlations, maes, mses\n",
    "\n",
    "corr,maes,mses = eval(cnn_values)\n",
    "corr,maes,mses\n",
    "    "
   ]
  },
  {
   "cell_type": "code",
   "execution_count": 40,
   "id": "8099114b",
   "metadata": {},
   "outputs": [
    {
     "data": {
      "text/plain": [
       "([0.9813473655565822, 0.992093776078959],\n",
       " [6.549212621774887, 9.678852691745686],\n",
       " [5588.48266800356, 7751.748341018453])"
      ]
     },
     "execution_count": 40,
     "metadata": {},
     "output_type": "execute_result"
    }
   ],
   "source": [
    "corr,maes,mses = eval(mlp_values)\n",
    "corr,maes,mses"
   ]
  },
  {
   "cell_type": "code",
   "execution_count": 41,
   "id": "d630098e",
   "metadata": {},
   "outputs": [
    {
     "data": {
      "text/plain": [
       "([0.9790046325245513, 0.9925291429768344],\n",
       " [4.22451417394557, 7.268310981100594],\n",
       " [6487.839786770348, 4361.937142416791])"
      ]
     },
     "execution_count": 41,
     "metadata": {},
     "output_type": "execute_result"
    }
   ],
   "source": [
    "corr,maes,mses = eval(rfr_values)\n",
    "corr,maes,mses"
   ]
  },
  {
   "cell_type": "code",
   "execution_count": 32,
   "id": "f6bd3fec",
   "metadata": {},
   "outputs": [
    {
     "data": {
      "text/plain": [
       "([0.9443611679555202, 0.9322813786664008],\n",
       " [7.746335522882414, 10.60125005376309],\n",
       " [26009.422409706665, 40284.196222165076])"
      ]
     },
     "execution_count": 32,
     "metadata": {},
     "output_type": "execute_result"
    }
   ],
   "source": [
    "corr,maes,mses = eval(knn_values)\n",
    "corr,maes,mses"
   ]
  },
  {
   "cell_type": "code",
   "execution_count": 26,
   "id": "0de74195",
   "metadata": {},
   "outputs": [
    {
     "data": {
      "text/plain": [
       "([0.3036518464510577, 0.28501609472999545],\n",
       " [16.468658810830725, 19.42288293257891],\n",
       " [135040.272937564, 163701.4124858866])"
      ]
     },
     "execution_count": 26,
     "metadata": {},
     "output_type": "execute_result"
    }
   ],
   "source": [
    "corr,maes,mses = eval(svr_values)\n",
    "corr,maes,mses"
   ]
  },
  {
   "cell_type": "code",
   "execution_count": 27,
   "id": "33ace1a2",
   "metadata": {},
   "outputs": [
    {
     "data": {
      "text/plain": [
       "([0.996305152792572, 0.9912475345161386],\n",
       " [8.338548136462485, 13.612508276234937],\n",
       " [1869.423944356629, 8418.404796571238])"
      ]
     },
     "execution_count": 27,
     "metadata": {},
     "output_type": "execute_result"
    }
   ],
   "source": [
    "corr,maes,mses = eval(linear_values)\n",
    "corr,maes,mses"
   ]
  }
 ],
 "metadata": {
  "kernelspec": {
   "display_name": "Python 3 (ipykernel)",
   "language": "python",
   "name": "python3"
  },
  "language_info": {
   "codemirror_mode": {
    "name": "ipython",
    "version": 3
   },
   "file_extension": ".py",
   "mimetype": "text/x-python",
   "name": "python",
   "nbconvert_exporter": "python",
   "pygments_lexer": "ipython3",
   "version": "3.11.4"
  }
 },
 "nbformat": 4,
 "nbformat_minor": 5
}
